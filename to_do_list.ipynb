{
  "cells": [
    {
      "cell_type": "markdown",
      "metadata": {
        "id": "view-in-github",
        "colab_type": "text"
      },
      "source": [
        "<a href=\"https://colab.research.google.com/github/fouzanhaider/to-do-list/blob/main/to_do_list.ipynb\" target=\"_parent\"><img src=\"https://colab.research.google.com/assets/colab-badge.svg\" alt=\"Open In Colab\"/></a>"
      ]
    },
    {
      "cell_type": "code",
      "execution_count": 1,
      "metadata": {
        "colab": {
          "base_uri": "https://localhost:8080/"
        },
        "id": "B4h8XmXW6URk",
        "outputId": "fd282a7c-a4e9-4470-93c2-72dc0f628185"
      },
      "outputs": [
        {
          "name": "stdout",
          "output_type": "stream",
          "text": [
            "\n",
            "To-Do List Application\n",
            "1. Add Task\n",
            "2. Complete Task\n",
            "3. List Tasks\n",
            "4. Remove Task\n",
            "5. Exit\n",
            "Enter your choice: 1\n",
            "Enter task title: abc\n",
            "Enter task description: asdads\n",
            "Enter task due date (YYYY-MM-DD): 2025-01-02\n",
            "Added task: abc\n",
            "\n",
            "To-Do List Application\n",
            "1. Add Task\n",
            "2. Complete Task\n",
            "3. List Tasks\n",
            "4. Remove Task\n",
            "5. Exit\n",
            "Enter your choice: 3\n",
            "1: abc - Pending\n",
            "\n",
            "To-Do List Application\n",
            "1. Add Task\n",
            "2. Complete Task\n",
            "3. List Tasks\n",
            "4. Remove Task\n",
            "5. Exit\n",
            "Enter your choice: 5\n"
          ]
        }
      ],
      "source": [
        "from sqlalchemy import create_engine, Column, Integer, String, Date, Boolean\n",
        "from sqlalchemy.orm import sessionmaker, declarative_base\n",
        "from datetime import date\n",
        "\n",
        "# Setting up the SQLite database\n",
        "engine = create_engine('sqlite:///todo.db')\n",
        "Base = declarative_base()\n",
        "\n",
        "class Task(Base):\n",
        "    __tablename__ = 'tasks'\n",
        "    id = Column(Integer, primary_key=True)\n",
        "    title = Column(String, nullable=False)\n",
        "    description = Column(String)\n",
        "    due_date = Column(Date)\n",
        "    is_done = Column(Boolean, default=False)\n",
        "\n",
        "Base.metadata.create_all(engine)\n",
        "Session = sessionmaker(bind=engine)\n",
        "session = Session()\n",
        "\n",
        "def add_task(title, description='', due_date=None):\n",
        "    \"\"\"Add a new task\"\"\"\n",
        "    due_date = date.fromisoformat(due_date) if due_date else None\n",
        "    new_task = Task(title=title, description=description, due_date=due_date)\n",
        "    session.add(new_task)\n",
        "    session.commit()\n",
        "    print(f\"Added task: {title}\")\n",
        "\n",
        "def complete_task(task_id):\n",
        "    \"\"\"Mark a task as complete\"\"\"\n",
        "    task = session.query(Task).get(task_id)\n",
        "    if task:\n",
        "        task.is_done = True\n",
        "        session.commit()\n",
        "        print(f\"Task {task_id} marked as complete\")\n",
        "    else:\n",
        "        print(f\"Task {task_id} not found\")\n",
        "\n",
        "def list_tasks():\n",
        "    \"\"\"List all tasks\"\"\"\n",
        "    tasks = session.query(Task).all()\n",
        "    for task in tasks:\n",
        "        status = 'Done' if task.is_done else 'Pending'\n",
        "        print(f\"{task.id}: {task.title} - {status}\")\n",
        "\n",
        "def remove_task(task_id):\n",
        "    \"\"\"Remove a task\"\"\"\n",
        "    task = session.query(Task).get(task_id)\n",
        "    if task:\n",
        "        session.delete(task)\n",
        "        session.commit()\n",
        "        print(f\"Removed task {task_id}\")\n",
        "    else:\n",
        "        print(f\"Task {task_id} not found\")\n",
        "\n",
        "def main():\n",
        "    \"\"\"Main function to interact with the user\"\"\"\n",
        "    while True:\n",
        "        print(\"\\nTo-Do List Application\")\n",
        "        print(\"1. Add Task\")\n",
        "        print(\"2. Complete Task\")\n",
        "        print(\"3. List Tasks\")\n",
        "        print(\"4. Remove Task\")\n",
        "        print(\"5. Exit\")\n",
        "\n",
        "        choice = input(\"Enter your choice: \")\n",
        "\n",
        "        if choice == '1':\n",
        "            title = input(\"Enter task title: \")\n",
        "            description = input(\"Enter task description: \")\n",
        "            due_date = input(\"Enter task due date (YYYY-MM-DD): \")\n",
        "            add_task(title, description, due_date)\n",
        "        elif choice == '2':\n",
        "            task_id = int(input(\"Enter task ID to complete: \"))\n",
        "            complete_task(task_id)\n",
        "        elif choice == '3':\n",
        "            list_tasks()\n",
        "        elif choice == '4':\n",
        "            task_id = int(input(\"Enter task ID to remove: \"))\n",
        "            remove_task(task_id)\n",
        "        elif choice == '5':\n",
        "            break\n",
        "        else:\n",
        "            print(\"Invalid choice. Please try again.\")\n",
        "\n",
        "if __name__ == '__main__':\n",
        "    main()\n"
      ]
    }
  ],
  "metadata": {
    "colab": {
      "provenance": [],
      "authorship_tag": "ABX9TyOVW8+oz3dFIjollpaHCuN4",
      "include_colab_link": true
    },
    "kernelspec": {
      "display_name": "Python 3",
      "name": "python3"
    },
    "language_info": {
      "name": "python"
    }
  },
  "nbformat": 4,
  "nbformat_minor": 0
}